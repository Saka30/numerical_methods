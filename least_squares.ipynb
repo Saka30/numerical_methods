{
  "cells": [
    {
      "cell_type": "markdown",
      "metadata": {
        "id": "bxtil8tTloev"
      },
      "source": [
        "### **Regressão Linear - Métodos dos Minímos Quadrados**"
      ]
    },
    {
      "cell_type": "code",
      "execution_count": 1,
      "metadata": {
        "id": "E_EQbCtLloex"
      },
      "outputs": [],
      "source": [
        "import numpy as np\n",
        "import pandas as pd\n",
        "import sympy as sp\n",
        "import matplotlib.pyplot as plt"
      ]
    },
    {
      "cell_type": "markdown",
      "metadata": {
        "id": "vg-4B9moloe0"
      },
      "source": [
        "### **valores de entrada**"
      ]
    },
    {
      "cell_type": "code",
      "execution_count": 2,
      "metadata": {
        "colab": {
          "base_uri": "https://localhost:8080/",
          "height": 425
        },
        "id": "BdPhQrhZloe2",
        "outputId": "ce546605-4bb3-4bdb-e3d3-6bac725f0928"
      },
      "outputs": [
        {
          "data": {
            "text/html": [
              "<div>\n",
              "<style scoped>\n",
              "    .dataframe tbody tr th:only-of-type {\n",
              "        vertical-align: middle;\n",
              "    }\n",
              "\n",
              "    .dataframe tbody tr th {\n",
              "        vertical-align: top;\n",
              "    }\n",
              "\n",
              "    .dataframe thead th {\n",
              "        text-align: right;\n",
              "    }\n",
              "</style>\n",
              "<table border=\"1\" class=\"dataframe\">\n",
              "  <thead>\n",
              "    <tr style=\"text-align: right;\">\n",
              "      <th></th>\n",
              "      <th>X</th>\n",
              "      <th>Y</th>\n",
              "    </tr>\n",
              "  </thead>\n",
              "  <tbody>\n",
              "    <tr>\n",
              "      <th>1</th>\n",
              "      <td>68</td>\n",
              "      <td>65</td>\n",
              "    </tr>\n",
              "    <tr>\n",
              "      <th>2</th>\n",
              "      <td>66</td>\n",
              "      <td>63</td>\n",
              "    </tr>\n",
              "    <tr>\n",
              "      <th>3</th>\n",
              "      <td>68</td>\n",
              "      <td>67</td>\n",
              "    </tr>\n",
              "    <tr>\n",
              "      <th>4</th>\n",
              "      <td>65</td>\n",
              "      <td>64</td>\n",
              "    </tr>\n",
              "    <tr>\n",
              "      <th>5</th>\n",
              "      <td>69</td>\n",
              "      <td>68</td>\n",
              "    </tr>\n",
              "    <tr>\n",
              "      <th>6</th>\n",
              "      <td>66</td>\n",
              "      <td>62</td>\n",
              "    </tr>\n",
              "    <tr>\n",
              "      <th>7</th>\n",
              "      <td>68</td>\n",
              "      <td>70</td>\n",
              "    </tr>\n",
              "    <tr>\n",
              "      <th>8</th>\n",
              "      <td>65</td>\n",
              "      <td>66</td>\n",
              "    </tr>\n",
              "    <tr>\n",
              "      <th>9</th>\n",
              "      <td>71</td>\n",
              "      <td>68</td>\n",
              "    </tr>\n",
              "    <tr>\n",
              "      <th>10</th>\n",
              "      <td>67</td>\n",
              "      <td>67</td>\n",
              "    </tr>\n",
              "    <tr>\n",
              "      <th>11</th>\n",
              "      <td>68</td>\n",
              "      <td>69</td>\n",
              "    </tr>\n",
              "    <tr>\n",
              "      <th>12</th>\n",
              "      <td>70</td>\n",
              "      <td>71</td>\n",
              "    </tr>\n",
              "  </tbody>\n",
              "</table>\n",
              "</div>"
            ],
            "text/plain": [
              "     X   Y\n",
              "1   68  65\n",
              "2   66  63\n",
              "3   68  67\n",
              "4   65  64\n",
              "5   69  68\n",
              "6   66  62\n",
              "7   68  70\n",
              "8   65  66\n",
              "9   71  68\n",
              "10  67  67\n",
              "11  68  69\n",
              "12  70  71"
            ]
          },
          "execution_count": 2,
          "metadata": {},
          "output_type": "execute_result"
        }
      ],
      "source": [
        "n_casas_decimais = 8\n",
        "\n",
        "x = [68, 66, 68, 65, 69, 66, 68, 65, 71, 67, 68, 70]\n",
        "y = [65, 63, 67, 64, 68, 62, 70, 66, 68, 67, 69, 71]\n",
        "\n",
        "tabela = pd.DataFrame({\n",
        "    'X': x,\n",
        "    'Y': y\n",
        "})\n",
        "\n",
        "tabela.index += 1\n",
        "tabela"
      ]
    },
    {
      "cell_type": "markdown",
      "metadata": {
        "id": "XzRgB8O7loe3"
      },
      "source": [
        "### **correlação de Pearson**"
      ]
    },
    {
      "cell_type": "code",
      "execution_count": 3,
      "metadata": {
        "colab": {
          "base_uri": "https://localhost:8080/"
        },
        "id": "ZiSrZ_7Dloe3",
        "outputId": "9b706b0d-daaf-4b22-cf9f-a360719faa23"
      },
      "outputs": [
        {
          "name": "stdout",
          "output_type": "stream",
          "text": [
            "coeficiente de correlação de Pearson = 0.70265165\n",
            "coefeciente de determinação = 49.37%\n"
          ]
        }
      ],
      "source": [
        "r = tabela['X'].corr(tabela['Y'])\n",
        "coef_det = r ** 2\n",
        "\n",
        "print(f'coeficiente de correlação de Pearson = {r:.{n_casas_decimais}f}')\n",
        "print(f'coefeciente de determinação = {coef_det*100:.2f}%')"
      ]
    },
    {
      "cell_type": "markdown",
      "metadata": {
        "id": "6qwWoFHXloe4"
      },
      "source": [
        "### **Sistema de equações**"
      ]
    },
    {
      "cell_type": "code",
      "execution_count": 4,
      "metadata": {
        "colab": {
          "base_uri": "https://localhost:8080/",
          "height": 61
        },
        "id": "-R43sZCCloe4",
        "outputId": "c5ae1905-16b9-4937-e925-3a7d898d61b2"
      },
      "outputs": [
        {
          "data": {
            "text/latex": [
              "$\\displaystyle 12 a + 811 b = 800$"
            ],
            "text/plain": [
              "Eq(12*a + 811*b, 800)"
            ]
          },
          "metadata": {},
          "output_type": "display_data"
        },
        {
          "data": {
            "text/latex": [
              "$\\displaystyle 811 a + 54849 b = 54107$"
            ],
            "text/plain": [
              "Eq(811*a + 54849*b, 54107)"
            ]
          },
          "metadata": {},
          "output_type": "display_data"
        }
      ],
      "source": [
        "n, _ = tabela.shape\n",
        "\n",
        "soma_x = tabela['X'].sum()\n",
        "soma_y = tabela['Y'].sum()\n",
        "\n",
        "soma_xy = (tabela['X'] * tabela['Y']).sum()\n",
        "soma_x2 = (tabela['X'] ** 2).sum()\n",
        "soma_y2 = (tabela['Y'] ** 2).sum()\n",
        "\n",
        "a, b, x, y = sp.symbols(\"a b x y\")\n",
        "\n",
        "display(sp.Eq(a*n + b*soma_x, soma_y ))\n",
        "display(sp.Eq(a*soma_x + b*soma_x2, soma_xy))"
      ]
    },
    {
      "cell_type": "markdown",
      "metadata": {
        "id": "65a9oRVfloe5"
      },
      "source": [
        "### **Equação da reta**"
      ]
    },
    {
      "cell_type": "code",
      "execution_count": 5,
      "metadata": {
        "colab": {
          "base_uri": "https://localhost:8080/",
          "height": 39
        },
        "id": "joSNnBHbloe6",
        "outputId": "84c8f344-3c56-4af9-93b8-92fd24d7c6fc"
      },
      "outputs": [
        {
          "data": {
            "text/latex": [
              "$\\displaystyle y = 1.03640257 x - 3.37687369$"
            ],
            "text/plain": [
              "Eq(y, 1.03640257*x - 3.37687369)"
            ]
          },
          "execution_count": 5,
          "metadata": {},
          "output_type": "execute_result"
        }
      ],
      "source": [
        "b = round(((n * soma_xy - soma_x*soma_y) / (n * soma_x2 - soma_x**2) ), n_casas_decimais)\n",
        "a = round((soma_y - soma_x*b) / n, n_casas_decimais)\n",
        "\n",
        "equacao_reta = sp.Eq(y, a + b*x)\n",
        "\n",
        "def f(x):\n",
        "  return a + b*x\n",
        "\n",
        "equacao_reta"
      ]
    },
    {
      "cell_type": "markdown",
      "metadata": {
        "id": "zs1LlM89loe7"
      },
      "source": [
        "### **inferência**"
      ]
    },
    {
      "cell_type": "code",
      "execution_count": 6,
      "metadata": {
        "colab": {
          "base_uri": "https://localhost:8080/"
        },
        "id": "LwQqbYfAloe7",
        "outputId": "9093a6c3-b1b6-44b3-e460-1fd4101a454e"
      },
      "outputs": [
        {
          "data": {
            "text/html": [
              "<div>\n",
              "<style scoped>\n",
              "    .dataframe tbody tr th:only-of-type {\n",
              "        vertical-align: middle;\n",
              "    }\n",
              "\n",
              "    .dataframe tbody tr th {\n",
              "        vertical-align: top;\n",
              "    }\n",
              "\n",
              "    .dataframe thead th {\n",
              "        text-align: right;\n",
              "    }\n",
              "</style>\n",
              "<table border=\"1\" class=\"dataframe\">\n",
              "  <thead>\n",
              "    <tr style=\"text-align: right;\">\n",
              "      <th></th>\n",
              "      <th>X</th>\n",
              "      <th>Y</th>\n",
              "    </tr>\n",
              "  </thead>\n",
              "  <tbody>\n",
              "    <tr>\n",
              "      <th>0</th>\n",
              "      <td>65.0</td>\n",
              "      <td>63.989293</td>\n",
              "    </tr>\n",
              "    <tr>\n",
              "      <th>1</th>\n",
              "      <td>65.5</td>\n",
              "      <td>64.507495</td>\n",
              "    </tr>\n",
              "    <tr>\n",
              "      <th>2</th>\n",
              "      <td>66.0</td>\n",
              "      <td>65.025696</td>\n",
              "    </tr>\n",
              "    <tr>\n",
              "      <th>3</th>\n",
              "      <td>66.5</td>\n",
              "      <td>65.543897</td>\n",
              "    </tr>\n",
              "    <tr>\n",
              "      <th>4</th>\n",
              "      <td>67.0</td>\n",
              "      <td>66.062098</td>\n",
              "    </tr>\n",
              "    <tr>\n",
              "      <th>5</th>\n",
              "      <td>67.5</td>\n",
              "      <td>66.580300</td>\n",
              "    </tr>\n",
              "    <tr>\n",
              "      <th>6</th>\n",
              "      <td>68.5</td>\n",
              "      <td>67.616702</td>\n",
              "    </tr>\n",
              "    <tr>\n",
              "      <th>7</th>\n",
              "      <td>69.0</td>\n",
              "      <td>68.134904</td>\n",
              "    </tr>\n",
              "    <tr>\n",
              "      <th>8</th>\n",
              "      <td>69.5</td>\n",
              "      <td>68.653105</td>\n",
              "    </tr>\n",
              "    <tr>\n",
              "      <th>9</th>\n",
              "      <td>70.5</td>\n",
              "      <td>69.689507</td>\n",
              "    </tr>\n",
              "  </tbody>\n",
              "</table>\n",
              "</div>"
            ],
            "text/plain": [
              "      X          Y\n",
              "0  65.0  63.989293\n",
              "1  65.5  64.507495\n",
              "2  66.0  65.025696\n",
              "3  66.5  65.543897\n",
              "4  67.0  66.062098\n",
              "5  67.5  66.580300\n",
              "6  68.5  67.616702\n",
              "7  69.0  68.134904\n",
              "8  69.5  68.653105\n",
              "9  70.5  69.689507"
            ]
          },
          "metadata": {},
          "output_type": "display_data"
        },
        {
          "data": {
            "text/plain": [
              "65.647537472"
            ]
          },
          "metadata": {},
          "output_type": "display_data"
        }
      ],
      "source": [
        "rng = np.random.default_rng()\n",
        "vls = rng.permuted(np.arange(tabela['X'].min(), tabela['X'].max(), 0.5))[:10]\n",
        "vls.sort()\n",
        "\n",
        "tabela_inf = pd.DataFrame({\n",
        "    'X': vls,\n",
        "    'Y': f(vls)\n",
        "})\n",
        "\n",
        "display(tabela_inf)\n",
        "#Ou um valor especifico\n",
        "display(f(66.6))"
      ]
    },
    {
      "cell_type": "markdown",
      "metadata": {
        "id": "vSphZ4Rlloe8"
      },
      "source": [
        "### **gráfico**"
      ]
    },
    {
      "cell_type": "code",
      "execution_count": 7,
      "metadata": {
        "colab": {
          "base_uri": "https://localhost:8080/",
          "height": 374
        },
        "id": "zvuUADHmloe8",
        "outputId": "7faf2a86-f520-4159-d2d7-52c24d4c3554"
      },
      "outputs": [
        {
          "data": {
            "image/png": "[encoded data removed]",
            "text/plain": [
              "<Figure size 1000x480 with 1 Axes>"
            ]
          },
          "metadata": {},
          "output_type": "display_data"
        }
      ],
      "source": [
        "fig, ax = plt.subplots()\n",
        "\n",
        "fig.set_figwidth(10)\n",
        "\n",
        "ax.plot(tabela['X'], f(tabela['X']), 'r', label= sp.latex(equacao_reta));\n",
        "ax.scatter(tabela['X'], tabela['Y'], c='green' ,label= 'observações')\n",
        "\n",
        "ax.set_xlabel('x')\n",
        "ax.set_ylabel('y')\n",
        "\n",
        "ax.legend();\n",
        "\n",
        "ax.grid(axis='y')"
      ]
    }
  ],
  "metadata": {
    "colab": {
      "provenance": []
    },
    "kernelspec": {
      "display_name": "mn_env",
      "language": "python",
      "name": "python3"
    },
    "language_info": {
      "codemirror_mode": {
        "name": "ipython",
        "version": 3
      },
      "file_extension": ".py",
      "mimetype": "text/x-python",
      "name": "python",
      "nbconvert_exporter": "python",
      "pygments_lexer": "ipython3",
      "version": "3.12.2"
    }
  },
  "nbformat": 4,
  "nbformat_minor": 0
}
