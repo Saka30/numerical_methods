{
  "nbformat": 4,
  "nbformat_minor": 0,
  "metadata": {
    "colab": {
      "provenance": []
    },
    "kernelspec": {
      "name": "python3",
      "display_name": "Python 3"
    },
    "language_info": {
      "name": "python"
    }
  },
  "cells": [
    {
      "cell_type": "markdown",
      "source": [
        "# Encontrar raízes - Método da Bisseção"
      ],
      "metadata": {
        "id": "t1JlV3LwYUVm"
      }
    },
    {
      "cell_type": "code",
      "source": [
        "import sympy as sp\n",
        "import numpy as np\n",
        "from scipy.optimize import fsolve\n",
        "import matplotlib.pyplot as plt"
      ],
      "metadata": {
        "id": "CUk1pINOfGG8"
      },
      "execution_count": null,
      "outputs": []
    },
    {
      "cell_type": "code",
      "source": [
        "x = sp.Symbol('x')"
      ],
      "metadata": {
        "id": "ixxS9sznfKsg"
      },
      "execution_count": null,
      "outputs": []
    },
    {
      "cell_type": "markdown",
      "source": [
        "### Entrada"
      ],
      "metadata": {
        "id": "UvBLch9_Y2px"
      }
    },
    {
      "cell_type": "code",
      "source": [
        "expr = x + sp.log(x)\n",
        "intervalo = (0.1, 0.9)\n",
        "n_casas_decimais = 6\n",
        "tol = 0.03"
      ],
      "metadata": {
        "id": "8X2xMTZ6Ysh5"
      },
      "execution_count": null,
      "outputs": []
    },
    {
      "cell_type": "markdown",
      "source": [
        "### Saída"
      ],
      "metadata": {
        "id": "W9JDOA8FUF9E"
      }
    },
    {
      "cell_type": "code",
      "source": [
        "def bisection(f, intervalo, tol):\n",
        "\n",
        "  a, b = intervalo\n",
        "\n",
        "  k = 1\n",
        "  while True:\n",
        "\n",
        "    print(f'[{k} Tentativa]', end='\\n\\n')\n",
        "\n",
        "    erro = (b - a) / 2\n",
        "    p_medio = (a + b) / 2\n",
        "\n",
        "    print(f'Escolhido = [{round(p_medio - erro, n_casas_decimais)} ; {round(p_medio + erro, n_casas_decimais)}]')\n",
        "    print(f'X{k - 1} = {round(p_medio, n_casas_decimais)}')\n",
        "    print(f'erro = {round(erro, n_casas_decimais)}', end='\\n\\n')\n",
        "\n",
        "    ant_a, ant_b = a, b\n",
        "\n",
        "    if f(a) * f(p_medio) < 0:\n",
        "      b = p_medio\n",
        "    else:\n",
        "      a = p_medio\n",
        "\n",
        "    if tol > erro:\n",
        "      break\n",
        "\n",
        "    print(f\"[{ant_a} ; {p_medio}]  [{p_medio} ; {ant_b}]\", end='\\n\\n')\n",
        "\n",
        "    sinal = lambda x: \"< 0\" if f(x) < 0 else \"> 0\"\n",
        "\n",
        "    for val in (ant_a, p_medio, ant_b):\n",
        "         print(f'f({val}) = {round(f(val), n_casas_decimais)} {sinal(val)}')\n",
        "    print()\n",
        "\n",
        "    k += 1\n",
        "\n",
        "  return p_medio"
      ],
      "metadata": {
        "id": "5M1G7dLTyVSE"
      },
      "execution_count": null,
      "outputs": []
    },
    {
      "cell_type": "code",
      "source": [
        "f = sp.lambdify(x, expr)\n",
        "res = bisection(f, intervalo, tol)\n",
        "\n",
        "print(\"Resultado final = \", res)"
      ],
      "metadata": {
        "colab": {
          "base_uri": "https://localhost:8080/"
        },
        "id": "BaN6Puwf0REn",
        "outputId": "e3d39493-69fa-45a0-ccd6-181fed97da82"
      },
      "execution_count": null,
      "outputs": [
        {
          "output_type": "stream",
          "name": "stdout",
          "text": [
            "[1 Tentativa]\n",
            "\n",
            "Escolhido = [0.1 ; 0.9]\n",
            "X0 = 0.5\n",
            "erro = 0.4\n",
            "\n",
            "[0.1 ; 0.5]  [0.5 ; 0.9]\n",
            "\n",
            "f(0.1) = -2.202585 < 0\n",
            "f(0.5) = -0.193147 < 0\n",
            "f(0.9) = 0.794639 > 0\n",
            "\n",
            "[2 Tentativa]\n",
            "\n",
            "Escolhido = [0.5 ; 0.9]\n",
            "X1 = 0.7\n",
            "erro = 0.2\n",
            "\n",
            "[0.5 ; 0.7]  [0.7 ; 0.9]\n",
            "\n",
            "f(0.5) = -0.193147 < 0\n",
            "f(0.7) = 0.343325 > 0\n",
            "f(0.9) = 0.794639 > 0\n",
            "\n",
            "[3 Tentativa]\n",
            "\n",
            "Escolhido = [0.5 ; 0.7]\n",
            "X2 = 0.6\n",
            "erro = 0.1\n",
            "\n",
            "[0.5 ; 0.6]  [0.6 ; 0.7]\n",
            "\n",
            "f(0.5) = -0.193147 < 0\n",
            "f(0.6) = 0.089174 > 0\n",
            "f(0.7) = 0.343325 > 0\n",
            "\n",
            "[4 Tentativa]\n",
            "\n",
            "Escolhido = [0.5 ; 0.6]\n",
            "X3 = 0.55\n",
            "erro = 0.05\n",
            "\n",
            "[0.5 ; 0.55]  [0.55 ; 0.6]\n",
            "\n",
            "f(0.5) = -0.193147 < 0\n",
            "f(0.55) = -0.047837 < 0\n",
            "f(0.6) = 0.089174 > 0\n",
            "\n",
            "[5 Tentativa]\n",
            "\n",
            "Escolhido = [0.55 ; 0.6]\n",
            "X4 = 0.575\n",
            "erro = 0.025\n",
            "\n",
            "Resultado final =  0.575\n"
          ]
        }
      ]
    },
    {
      "cell_type": "markdown",
      "source": [
        "### Raiza exata"
      ],
      "metadata": {
        "id": "1ETjLZsvKPkN"
      }
    },
    {
      "cell_type": "code",
      "source": [
        "exata = fsolve(sp.lambdify(x, expr), intervalo)[0]\n",
        "round(exata, n_casas_decimais)"
      ],
      "metadata": {
        "colab": {
          "base_uri": "https://localhost:8080/"
        },
        "id": "yYrp5DqMzG9e",
        "outputId": "a04e23d1-a638-47cc-e18c-dd9cefd77ac6"
      },
      "execution_count": null,
      "outputs": [
        {
          "output_type": "execute_result",
          "data": {
            "text/plain": [
              "0.567143"
            ]
          },
          "metadata": {},
          "execution_count": 356
        }
      ]
    },
    {
      "cell_type": "markdown",
      "source": [
        "### Gráfico"
      ],
      "metadata": {
        "id": "_k8JwOJpsTR-"
      }
    },
    {
      "cell_type": "code",
      "source": [
        "fig, ax = plt.subplots(figsize=(7, 7))\n",
        "\n",
        "#Define o dominio e a imagem do grafico\n",
        "a, b = intervalo\n",
        "dom = np.linspace(a, b+5, 100)\n",
        "img = f(dom)\n",
        "\n",
        "#Desenha a função e a ponto de interseccão com o eixo x\n",
        "ax.plot(dom, img, label=f'f(x) = ${sp.latex(expr)}$')\n",
        "ax.plot(res, [0], 'ro')\n",
        "plt.text(res, 0, f'  raiz aproximada ({res:.{n_casas_decimais}f}, 0)', fontsize=10, verticalalignment='bottom', c='r')\n",
        "ax.legend()\n",
        "\n",
        "# Selecione o comprimento dos eixos e o espaço entre os rótulos dos ticks\n",
        "xmin, xmax, ymin, ymax = -5, 5, -5, 5\n",
        "ticks_frequency = 1\n",
        "\n",
        "# Defina escalas idênticas para ambos os eixos\n",
        "ax.set(xlim=(xmin-1, xmax+1), ylim=(ymin-1, ymax+1), aspect='equal')\n",
        "\n",
        "# Coloca os eixos inferior e da esquerda como eixos x e y do sistema de coordenadas\n",
        "ax.spines['bottom'].set_position('zero')\n",
        "ax.spines['left'].set_position('zero')\n",
        "\n",
        "# Remove a linha superior e  da direita\n",
        "ax.spines['top'].set_visible(False)\n",
        "ax.spines['right'].set_visible(False)\n",
        "\n",
        "# Crie rótulos 'x' e 'y' colocados no final dos eixos\n",
        "ax.set_xlabel('x', size=14, labelpad=-24, x=1.03)\n",
        "ax.set_ylabel('y', size=14, labelpad=-21, y=1.02, rotation=0)\n",
        "\n",
        "# Crie ticks principais personalizados para determinar a posição dos rótulos dos ticks\n",
        "x_ticks = np.arange(xmin, xmax+1, ticks_frequency)\n",
        "y_ticks = np.arange(ymin, ymax+1, ticks_frequency)\n",
        "ax.set_xticks(x_ticks[x_ticks != 0])\n",
        "ax.set_yticks(y_ticks[y_ticks != 0])\n",
        "\n",
        "# Desenhe linhas de grade principais e menores\n",
        "ax.grid(which='both', color='grey', linewidth=1, linestyle='-', alpha=0.2)\n",
        "\n",
        "# Desenha as setas\n",
        "arrow_fmt = dict(markersize=4, color='black', clip_on=False)\n",
        "ax.plot((1), (0), marker='>', transform=ax.get_yaxis_transform(), **arrow_fmt)\n",
        "ax.plot((0), (1), marker='^', transform=ax.get_xaxis_transform(), **arrow_fmt)\n",
        "\n",
        "plt.show()\n"
      ],
      "metadata": {
        "colab": {
          "base_uri": "https://localhost:8080/",
          "height": 596
        },
        "id": "AlZFdhIfF21K",
        "outputId": "386df991-3ccb-405d-b84d-27c346852c96"
      },
      "execution_count": null,
      "outputs": [
        {
          "output_type": "display_data",
          "data": {
            "text/plain": [
              "<Figure size 700x700 with 1 Axes>"
            ],
            "image/png": "[encoded data removed]"
          },
          "metadata": {}
        }
      ]
    }
  ]
}