{
 "cells": [
  {
   "cell_type": "markdown",
   "metadata": {},
   "source": [
    "#### **Integração Numérica - Método dos trapézios**"
   ]
  },
  {
   "cell_type": "code",
   "execution_count": 1,
   "metadata": {},
   "outputs": [],
   "source": [
    "import numpy as np \n",
    "import pandas as pd\n",
    "import sympy as sp \n",
    "import matplotlib.pyplot as plt\n",
    "\n",
    "pd.set_option('display.max_rows', 51)\n",
    "pd.set_option('display.float_format', None)"
   ]
  },
  {
   "cell_type": "markdown",
   "metadata": {},
   "source": [
    "Resolvendo a integral\n",
    "\n",
    "$$\n",
    "\\int_{0}^{1} \\frac{4}{1 + x^2} \\, dx\n",
    "$$\n"
   ]
  },
  {
   "cell_type": "markdown",
   "metadata": {},
   "source": [
    "entrada"
   ]
  },
  {
   "cell_type": "code",
   "execution_count": 2,
   "metadata": {},
   "outputs": [],
   "source": [
    "a, b = 0, 1 \n",
    "n_trapezios = 12_900\n",
    "n_casas_decimais = 6\n",
    "\n",
    "dom = np.linspace(a, b, n_trapezios+1)\n",
    "img = 4 / (1 + np.square(dom))"
   ]
  },
  {
   "cell_type": "markdown",
   "metadata": {},
   "source": [
    "soma das áreas dos trapézios"
   ]
  },
  {
   "cell_type": "code",
   "execution_count": 3,
   "metadata": {},
   "outputs": [
    {
     "name": "stdout",
     "output_type": "stream",
     "text": [
      "Área aproximada: 3.141593\n"
     ]
    }
   ],
   "source": [
    "h = (b - a) / (n_trapezios)\n",
    "soma = img[0] + 2 * np.sum(img[1:-1]) + img[-1]\n",
    "area = soma * (h/2)\n",
    "\n",
    "print(f'Área aproximada: {area:.{n_casas_decimais}f}')"
   ]
  },
  {
   "cell_type": "markdown",
   "metadata": {},
   "source": [
    "tabela"
   ]
  },
  {
   "cell_type": "code",
   "execution_count": 4,
   "metadata": {},
   "outputs": [
    {
     "data": {
      "text/html": [
       "<div>\n",
       "<style scoped>\n",
       "    .dataframe tbody tr th:only-of-type {\n",
       "        vertical-align: middle;\n",
       "    }\n",
       "\n",
       "    .dataframe tbody tr th {\n",
       "        vertical-align: top;\n",
       "    }\n",
       "\n",
       "    .dataframe thead th {\n",
       "        text-align: right;\n",
       "    }\n",
       "</style>\n",
       "<table border=\"1\" class=\"dataframe\">\n",
       "  <thead>\n",
       "    <tr style=\"text-align: right;\">\n",
       "      <th></th>\n",
       "      <th>x</th>\n",
       "      <th>f(x)</th>\n",
       "    </tr>\n",
       "  </thead>\n",
       "  <tbody>\n",
       "    <tr>\n",
       "      <th>0</th>\n",
       "      <td>0.000000</td>\n",
       "      <td>4.000000</td>\n",
       "    </tr>\n",
       "    <tr>\n",
       "      <th>1</th>\n",
       "      <td>0.000078</td>\n",
       "      <td>4.000000</td>\n",
       "    </tr>\n",
       "    <tr>\n",
       "      <th>2</th>\n",
       "      <td>0.000155</td>\n",
       "      <td>4.000000</td>\n",
       "    </tr>\n",
       "    <tr>\n",
       "      <th>3</th>\n",
       "      <td>0.000233</td>\n",
       "      <td>4.000000</td>\n",
       "    </tr>\n",
       "    <tr>\n",
       "      <th>4</th>\n",
       "      <td>0.000310</td>\n",
       "      <td>4.000000</td>\n",
       "    </tr>\n",
       "    <tr>\n",
       "      <th>...</th>\n",
       "      <td>...</td>\n",
       "      <td>...</td>\n",
       "    </tr>\n",
       "    <tr>\n",
       "      <th>12896</th>\n",
       "      <td>0.999690</td>\n",
       "      <td>2.000620</td>\n",
       "    </tr>\n",
       "    <tr>\n",
       "      <th>12897</th>\n",
       "      <td>0.999767</td>\n",
       "      <td>2.000465</td>\n",
       "    </tr>\n",
       "    <tr>\n",
       "      <th>12898</th>\n",
       "      <td>0.999845</td>\n",
       "      <td>2.000310</td>\n",
       "    </tr>\n",
       "    <tr>\n",
       "      <th>12899</th>\n",
       "      <td>0.999922</td>\n",
       "      <td>2.000155</td>\n",
       "    </tr>\n",
       "    <tr>\n",
       "      <th>12900</th>\n",
       "      <td>1.000000</td>\n",
       "      <td>2.000000</td>\n",
       "    </tr>\n",
       "  </tbody>\n",
       "</table>\n",
       "<p>12901 rows × 2 columns</p>\n",
       "</div>"
      ],
      "text/plain": [
       "              x      f(x)\n",
       "0      0.000000  4.000000\n",
       "1      0.000078  4.000000\n",
       "2      0.000155  4.000000\n",
       "3      0.000233  4.000000\n",
       "4      0.000310  4.000000\n",
       "...         ...       ...\n",
       "12896  0.999690  2.000620\n",
       "12897  0.999767  2.000465\n",
       "12898  0.999845  2.000310\n",
       "12899  0.999922  2.000155\n",
       "12900  1.000000  2.000000\n",
       "\n",
       "[12901 rows x 2 columns]"
      ]
     },
     "execution_count": 4,
     "metadata": {},
     "output_type": "execute_result"
    }
   ],
   "source": [
    "tabela = pd.DataFrame({'x': dom, 'f(x)': img})\n",
    "tabela = tabela.round({'f(x)': n_casas_decimais})\n",
    "\n",
    "tabela\n"
   ]
  },
  {
   "cell_type": "markdown",
   "metadata": {},
   "source": [
    "erro de arredondamento"
   ]
  },
  {
   "cell_type": "code",
   "execution_count": 5,
   "metadata": {},
   "outputs": [
    {
     "name": "stdout",
     "output_type": "stream",
     "text": [
      "(3.141593 ± 5.00e-07)\n",
      "\n",
      "[3.141592 ; 3.141593]\n"
     ]
    }
   ],
   "source": [
    "decimal = 5 / (10 ** (n_casas_decimais + 1))\n",
    "erro_arr = n_trapezios * decimal * h\n",
    "\n",
    "form = '.2e' if erro_arr < 0.00001 else f'.{n_casas_decimais}f'\n",
    "intervalo1 =  f'({area:.{n_casas_decimais}f} ± {erro_arr:{form}})'\n",
    "intervalo2 =  f'[{area - erro_arr:.{n_casas_decimais}f} ; {area+erro_arr:.{n_casas_decimais}f}]'\n",
    "\n",
    "print(intervalo1, intervalo2, sep='\\n\\n')"
   ]
  },
  {
   "cell_type": "markdown",
   "metadata": {},
   "source": [
    "gráfico"
   ]
  },
  {
   "cell_type": "code",
   "execution_count": 6,
   "metadata": {},
   "outputs": [
    {
     "data": {
      "image/png": "[encoded data removed]",
      "text/plain": [
       "<Figure size 640x480 with 1 Axes>"
      ]
     },
     "metadata": {},
     "output_type": "display_data"
    }
   ],
   "source": [
    "plt.plot(dom, img, label= r'$f(x) = \\frac{4}{1 + x^2} $', color='red')\n",
    "\n",
    "plt.fill_between(dom, img, color='darkgrey', alpha=0.4, ) \n",
    "plt.title('Gráfico da função')\n",
    "\n",
    "plt.xlabel('x'); plt.ylabel('y')\n",
    "plt.axhline(0, color='gray',linewidth=0.5)  \n",
    "plt.axvline(0, color='gray',linewidth=0.5) \n",
    "\n",
    "plt.legend(loc='upper right')\n",
    "\n",
    "plt.show()\n"
   ]
  },
  {
   "cell_type": "markdown",
   "metadata": {},
   "source": [
    "erro de truncamento"
   ]
  },
  {
   "cell_type": "code",
   "execution_count": 7,
   "metadata": {},
   "outputs": [
    {
     "name": "stdout",
     "output_type": "stream",
     "text": [
      "4.01e-09\n"
     ]
    }
   ],
   "source": [
    "x = sp.Symbol('x')\n",
    "\n",
    "put = 4 / (1 + x**2)\n",
    "out = sp.diff(sp.diff(put))\n",
    "\n",
    "function = sp.lambdify(x, out)\n",
    "\n",
    "erro_trunc = n_trapezios * ((h**3) / (12)) * max(abs(function(a)), abs(function(b)))\n",
    "form = '.2e' if erro_trunc < 0.00001 else f'.{n_casas_decimais}f'\n",
    "\n",
    "print(f'{erro_trunc:{form}}')\n"
   ]
  },
  {
   "cell_type": "markdown",
   "metadata": {},
   "source": [
    "erro total"
   ]
  },
  {
   "cell_type": "code",
   "execution_count": 8,
   "metadata": {},
   "outputs": [
    {
     "name": "stdout",
     "output_type": "stream",
     "text": [
      "(3.141593 ± 5.04e-07)\n",
      "\n",
      "[3.141592 ; 3.141593]\n"
     ]
    }
   ],
   "source": [
    "erro_total = erro_arr + erro_trunc\n",
    "\n",
    "form = '.2e' if erro_total < 0.00001 else f'.{n_casas_decimais}f'\n",
    "intervalo1 =  f'({area:.{n_casas_decimais}f} ± {erro_total:{form}})'\n",
    "intervalo2 =  f'[{area - erro_total:.{n_casas_decimais}f} ; {area+erro_total:.{n_casas_decimais}f}]'\n",
    "\n",
    "print(intervalo1, intervalo2, sep='\\n\\n')"
   ]
  }
 ],
 "metadata": {
  "kernelspec": {
   "display_name": "mn_env",
   "language": "python",
   "name": "python3"
  },
  "language_info": {
   "codemirror_mode": {
    "name": "ipython",
    "version": 3
   },
   "file_extension": ".py",
   "mimetype": "text/x-python",
   "name": "python",
   "nbconvert_exporter": "python",
   "pygments_lexer": "ipython3",
   "version": "3.12.2"
  }
 },
 "nbformat": 4,
 "nbformat_minor": 2
}
