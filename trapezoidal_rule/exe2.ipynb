{
 "cells": [
  {
   "cell_type": "markdown",
   "metadata": {},
   "source": [
    "#### **Integração Numérica - Método dos trapézios**"
   ]
  },
  {
   "cell_type": "code",
   "execution_count": 11,
   "metadata": {},
   "outputs": [],
   "source": [
    "import numpy as np \n",
    "import pandas as pd\n",
    "import sympy as sp \n",
    "import matplotlib.pyplot as plt\n",
    "\n",
    "pd.set_option('display.max_rows', 51)\n",
    "pd.set_option('display.float_format', None)"
   ]
  },
  {
   "cell_type": "markdown",
   "metadata": {},
   "source": [
    "Resolvendo a integral\n",
    "\n",
    "$$\n",
    "\\int_{1}^{2}  x^2sen(\\frac{1}{x^2}) \\, dx\n",
    "$$\n"
   ]
  },
  {
   "cell_type": "markdown",
   "metadata": {},
   "source": [
    "entrada"
   ]
  },
  {
   "cell_type": "code",
   "execution_count": 12,
   "metadata": {},
   "outputs": [],
   "source": [
    "a, b = 1, 2\n",
    "n_trapezios = 5\n",
    "n_casas_decimais = 4\n",
    "\n",
    "dom = np.linspace(a, b, n_trapezios+1)\n",
    "img = np.square(dom) * np.sin( 1 / np.square(dom) )"
   ]
  },
  {
   "cell_type": "markdown",
   "metadata": {},
   "source": [
    "soma das áreas dos trapézios"
   ]
  },
  {
   "cell_type": "code",
   "execution_count": 13,
   "metadata": {},
   "outputs": [
    {
     "name": "stdout",
     "output_type": "stream",
     "text": [
      "Área aproximada: 0.9506\n"
     ]
    }
   ],
   "source": [
    "h = (b - a) / (n_trapezios)\n",
    "soma = img[0] + 2 * np.sum(img[1:-1]) + img[-1]\n",
    "area = soma * (h/2)\n",
    "\n",
    "print(f'Área aproximada: {area:.{n_casas_decimais}f}')"
   ]
  },
  {
   "cell_type": "markdown",
   "metadata": {},
   "source": [
    "tabela"
   ]
  },
  {
   "cell_type": "code",
   "execution_count": 14,
   "metadata": {},
   "outputs": [
    {
     "data": {
      "text/html": [
       "<div>\n",
       "<style scoped>\n",
       "    .dataframe tbody tr th:only-of-type {\n",
       "        vertical-align: middle;\n",
       "    }\n",
       "\n",
       "    .dataframe tbody tr th {\n",
       "        vertical-align: top;\n",
       "    }\n",
       "\n",
       "    .dataframe thead th {\n",
       "        text-align: right;\n",
       "    }\n",
       "</style>\n",
       "<table border=\"1\" class=\"dataframe\">\n",
       "  <thead>\n",
       "    <tr style=\"text-align: right;\">\n",
       "      <th></th>\n",
       "      <th>x</th>\n",
       "      <th>f(x)</th>\n",
       "    </tr>\n",
       "  </thead>\n",
       "  <tbody>\n",
       "    <tr>\n",
       "      <th>0</th>\n",
       "      <td>1.0</td>\n",
       "      <td>0.8415</td>\n",
       "    </tr>\n",
       "    <tr>\n",
       "      <th>1</th>\n",
       "      <td>1.2</td>\n",
       "      <td>0.9215</td>\n",
       "    </tr>\n",
       "    <tr>\n",
       "      <th>2</th>\n",
       "      <td>1.4</td>\n",
       "      <td>0.9572</td>\n",
       "    </tr>\n",
       "    <tr>\n",
       "      <th>3</th>\n",
       "      <td>1.6</td>\n",
       "      <td>0.9748</td>\n",
       "    </tr>\n",
       "    <tr>\n",
       "      <th>4</th>\n",
       "      <td>1.8</td>\n",
       "      <td>0.9842</td>\n",
       "    </tr>\n",
       "    <tr>\n",
       "      <th>5</th>\n",
       "      <td>2.0</td>\n",
       "      <td>0.9896</td>\n",
       "    </tr>\n",
       "  </tbody>\n",
       "</table>\n",
       "</div>"
      ],
      "text/plain": [
       "     x    f(x)\n",
       "0  1.0  0.8415\n",
       "1  1.2  0.9215\n",
       "2  1.4  0.9572\n",
       "3  1.6  0.9748\n",
       "4  1.8  0.9842\n",
       "5  2.0  0.9896"
      ]
     },
     "execution_count": 14,
     "metadata": {},
     "output_type": "execute_result"
    }
   ],
   "source": [
    "tabela = pd.DataFrame({'x': dom, 'f(x)': img})\n",
    "tabela = tabela.round({'f(x)': n_casas_decimais})\n",
    "\n",
    "#pd.set_option('display.float_format', '{:.7f}'.format)\n",
    "\n",
    "tabela\n"
   ]
  },
  {
   "cell_type": "markdown",
   "metadata": {},
   "source": [
    "erro de arredondamento"
   ]
  },
  {
   "cell_type": "code",
   "execution_count": 15,
   "metadata": {},
   "outputs": [
    {
     "name": "stdout",
     "output_type": "stream",
     "text": [
      "(0.9506 ± 0.0001)\n",
      "\n",
      "[0.9506 ; 0.9507]\n"
     ]
    }
   ],
   "source": [
    "decimal = 5 / (10 ** (n_casas_decimais + 1) )\n",
    "erro_arr = n_trapezios * decimal * h\n",
    "\n",
    "form = '.2e' if erro_arr < 0.00001 else f'.{n_casas_decimais}f'\n",
    "intervalo1 =  f'({area:.{n_casas_decimais}f} ± {erro_arr:{form}})'\n",
    "intervalo2 =  f'[{area - erro_arr:.{n_casas_decimais}f} ; {area+erro_arr:.{n_casas_decimais}f}]'\n",
    "\n",
    "print(intervalo1, intervalo2, sep='\\n\\n')"
   ]
  },
  {
   "cell_type": "markdown",
   "metadata": {},
   "source": [
    "gráfico"
   ]
  },
  {
   "cell_type": "code",
   "execution_count": 16,
   "metadata": {},
   "outputs": [
    {
     "data": {
      "image/png": "[encoded data removed]",
      "text/plain": [
       "<Figure size 640x480 with 1 Axes>"
      ]
     },
     "metadata": {},
     "output_type": "display_data"
    }
   ],
   "source": [
    "plt.plot(dom, img, label= r'$f(x) = x^2sen(\\frac{1}{x^2}) $', color='red')\n",
    "\n",
    "plt.fill_between(dom, img, color='darkgrey', alpha=0.4, ) \n",
    "plt.title('Gráfico da função')\n",
    "\n",
    "plt.xlabel('x'); plt.ylabel('y')\n",
    "plt.axhline(0, color='gray',linewidth=0.5)  \n",
    "plt.axvline(0, color='gray',linewidth=0.5) \n",
    "\n",
    "plt.legend(loc='upper left')\n",
    "\n",
    "plt.show()\n"
   ]
  },
  {
   "cell_type": "markdown",
   "metadata": {},
   "source": [
    "erro de truncamento"
   ]
  },
  {
   "cell_type": "code",
   "execution_count": 17,
   "metadata": {},
   "outputs": [
    {
     "name": "stdout",
     "output_type": "stream",
     "text": [
      "0.0092\n"
     ]
    }
   ],
   "source": [
    "x = sp.Symbol('x')\n",
    "\n",
    "put = x**2 * sp.sin(1/x**2)\n",
    "out = sp.diff(sp.diff(put))\n",
    "\n",
    "function = sp.lambdify(x, out)\n",
    "\n",
    "erro_trunc = n_trapezios * ((h**3) / (12)) * max(abs(function(a)), abs(function(b)))\n",
    "form = '.2e' if erro_trunc < 0.00001 else f'.{n_casas_decimais}f'\n",
    "\n",
    "print(f'{erro_trunc:{form}}')\n"
   ]
  },
  {
   "cell_type": "markdown",
   "metadata": {},
   "source": [
    "erro total"
   ]
  },
  {
   "cell_type": "code",
   "execution_count": 18,
   "metadata": {},
   "outputs": [
    {
     "name": "stdout",
     "output_type": "stream",
     "text": [
      "(0.9506 ± 0.0093)\n",
      "\n",
      "[0.9414 ; 0.9599]\n"
     ]
    }
   ],
   "source": [
    "erro_total = erro_arr + erro_trunc\n",
    "\n",
    "form = '.2e' if erro_total < 0.00001 else f'.{n_casas_decimais}f'\n",
    "intervalo1 =  f'({area:.{n_casas_decimais}f} ± {erro_total:{form}})'\n",
    "intervalo2 =  f'[{area - erro_total:.{n_casas_decimais}f} ; {area+erro_total:.{n_casas_decimais}f}]'\n",
    "\n",
    "print(intervalo1, intervalo2, sep='\\n\\n')"
   ]
  }
 ],
 "metadata": {
  "kernelspec": {
   "display_name": "mn_env",
   "language": "python",
   "name": "python3"
  },
  "language_info": {
   "codemirror_mode": {
    "name": "ipython",
    "version": 3
   },
   "file_extension": ".py",
   "mimetype": "text/x-python",
   "name": "python",
   "nbconvert_exporter": "python",
   "pygments_lexer": "ipython3",
   "version": "3.12.2"
  }
 },
 "nbformat": 4,
 "nbformat_minor": 2
}
